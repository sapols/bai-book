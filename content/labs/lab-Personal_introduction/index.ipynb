{
 "cells": [
  {
   "cell_type": "markdown",
   "metadata": {},
   "source": [
    "# Lab - About Me"
   ]
  },
  {
   "cell_type": "markdown",
   "metadata": {},
   "source": [
    "## Tasks\n",
    "\n",
    "* [/] Modify the personal introduction text.\n",
    "* [/] Add text to My Background\n",
    "* [/] Add an image to My Vacation\n",
    "* [/] Add multiple images to My Favorite Dishes"
   ]
  },
  {
   "cell_type": "code",
   "execution_count": 1,
   "metadata": {},
   "outputs": [
    {
     "data": {
      "text/markdown": [
       "Hi! My name is __Shawn Polson__. I am currently pursuing __a Masters of Science in Computer Science__."
      ],
      "text/plain": [
       "<IPython.core.display.Markdown object>"
      ]
     },
     "execution_count": 1,
     "metadata": {},
     "output_type": "execute_result"
    }
   ],
   "source": [
    "from IPython.display import Markdown as md\n",
    "\n",
    "name = 'Shawn Polson'\n",
    "degree = 'a Masters of Science in Computer Science'\n",
    "md(f'Hi! My name is __{name}__. I am currently pursuing __{degree}__.')"
   ]
  },
  {
   "cell_type": "markdown",
   "metadata": {},
   "source": [
    "## My Learning Objectives\n",
    "\n",
    "I am taking this course with the following objectives:\n",
    "* Check my working knowledge of AI (I think it's pretty strong right now)\n",
    "* Learn basics of Neuroscience (I have no background in it)\n",
    "* Supplement what I learn in the Intro to Cognitive Science course I'm also taking this semester\n",
    "* Learn \"what's up\" with brain-computer interfaces (I thinking control tech with thoughts is the coolest thing)"
   ]
  },
  {
   "cell_type": "markdown",
   "metadata": {},
   "source": [
    "## My Background\n",
    "\n",
    "### Machine Learning\n",
    "I have a pretty strong background in machine learning (ML). I became interested in it toward the end of my undergrad in CS, and I ended up watching enough YouTube videos to grok the basics. Then in grad school, both of my semesters of Independent Study related to ML in some way. In my first semester, I researched methods of detecting anomalies in spacecraft telemetry with unsupervised ML algorithms. I work at the Laboratory for Atmospheric and Space Physics (LASP) here in Boulder, which allowed me to conduct that research using real satellite telemetry. I wrote [a paper](https://github.com/sapols/Satellite-Telemetry-Anomaly-Detection/blob/master/Paper/Unsupervised%20Machine%20Learning%20for%20Spacecraft%20Anomaly%20Detection%20in%20WebTCAD.pdf) on my findings and LASP liked my work enough that now, as part of my day job, I'm building a protoype of the software that will be used by mission ops personnel at LASP. In my second semester, I joined the Laboratory for Playful Computation under Dr. Ben Shapiro and, with a two fellow students, worked on a project that explored how ML could be integrated into youths' K-12 computing education. In short, I helped develop an app that can train and recognize gestures via a micro:bit, then connected that app to Scratch to afford gesture-based input for games, then ran a series of workshops with children where they built gesture-controlled Scratch games. We're planning on publishing a paper at this year's IDC, but it's not done yet, so I'll share a [demo video](https://drive.google.com/open?id=12hJX06XVy6vSv8wqGQws3p1xR2VWPpOh) instead.\n",
    "    \n",
    "### Neuroimaging\n",
    "I have absolutely no background in Neuroimaging. I might understand the concepts better than a lay person because I think it's facinating and I listen to tons of science podcasts, but I have no formal training in the subject. Pretty much everything I know was either picked up by podcasts or YouTube videos about people controlling things with their minds (via headsets of some kind). I also watched Elon Musk's full Neuralink presentation recently, which was pretty informative. I don't know the different parts of the brain, nor the various ways the brain can be imaged, nor many such basics. "
   ]
  },
  {
   "cell_type": "markdown",
   "metadata": {},
   "source": [
    "## My Vacation"
   ]
  },
  {
   "cell_type": "markdown",
   "metadata": {},
   "source": [
    "![Shawn snorkeling in the caribbean](vacation.png)"
   ]
  },
  {
   "cell_type": "markdown",
   "metadata": {},
   "source": [
    "My girlfriend and I went on a Carribean cruise over the Christmas holiday. We visited the Bahamas, St. Thomas, and St. Maarten. It was one of the most luxurious weeks of my life. In the picture above, I am snorkeling with fish in the Bahamas. My water-resistent iPhone let me capture the moment."
   ]
  },
  {
   "cell_type": "markdown",
   "metadata": {},
   "source": [
    "## My Favorite Dishes"
   ]
  },
  {
   "cell_type": "code",
   "execution_count": 4,
   "metadata": {},
   "outputs": [
    {
     "data": {
      "text/markdown": [
       "![image](chicken-tikka-masala.jpg)![image](green-curry.jpg)![image](pringles.jpg)"
      ],
      "text/plain": [
       "<IPython.core.display.Markdown object>"
      ]
     },
     "execution_count": 4,
     "metadata": {},
     "output_type": "execute_result"
    }
   ],
   "source": [
    "markdowntext = ''\n",
    "for filename in ['chicken-tikka-masala.jpg','green-curry.jpg','pringles.jpg']:\n",
    "    markdowntext += f'![image]({filename})'\n",
    "md(markdowntext)"
   ]
  },
  {
   "cell_type": "code",
   "execution_count": null,
   "metadata": {},
   "outputs": [],
   "source": []
  }
 ],
 "metadata": {
  "kernelspec": {
   "display_name": "Python 3",
   "language": "python",
   "name": "python3"
  },
  "language_info": {
   "codemirror_mode": {
    "name": "ipython",
    "version": 3
   },
   "file_extension": ".py",
   "mimetype": "text/x-python",
   "name": "python",
   "nbconvert_exporter": "python",
   "pygments_lexer": "ipython3",
   "version": "3.6.4"
  }
 },
 "nbformat": 4,
 "nbformat_minor": 2
}
